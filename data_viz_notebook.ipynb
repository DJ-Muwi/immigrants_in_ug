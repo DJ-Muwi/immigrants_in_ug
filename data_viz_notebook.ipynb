{
 "cells": [
  {
   "cell_type": "markdown",
   "id": "fc877341-dfb6-48e4-84b6-61422475bf4d",
   "metadata": {},
   "source": [
    "# Data Visualization Lab\n",
    "\n",
    "Welcome to this hands-on lab on Data Visualization using Python.\n",
    "\n",
    "## In this session:\n",
    "- Understand why visualization is essential in data science\n",
    "- Compare **matplotlib** and **seaborn**\n",
    "- Explore **plot anatomy** and aesthetics\n",
    "- Study **Anscombe's Quartet** and why statistics alone aren't enough\n",
    "- Build clean and insightful charts from scratch"
   ]
  },
  {
   "cell_type": "code",
   "execution_count": 1,
   "id": "35b75e49-7b38-4a20-8dd5-081c12812507",
   "metadata": {},
   "outputs": [],
   "source": [
    "import pandas as pd\n",
    "import numpy as np\n",
    "import matplotlib.pyplot as plt\n",
    "import seaborn as sns\n",
    "\n",
    "# improved plot clarity for Jupyter notebooks\n",
    "#%config InlineBackend.figure_format = 'retina'\n",
    "\n",
    "# global themes\n",
    "#sns.set_theme(style=\"whitegrid\")\n",
    "#plt.style.use(\"seaborn-v0_8-whitegrid\")"
   ]
  },
  {
   "cell_type": "markdown",
   "id": "a97df4ad-8192-4608-ae9c-27127bf99173",
   "metadata": {},
   "source": [
    "## 📊 Anscombe's Quartet\n",
    "\n",
    "This is a classical example of why statistics can't stand alone. The Anscombe's Quartet contains four datasets with nearly identical summary statistics (mean, variance, correlation), but very different distributions.\n",
    "\n",
    "This demonstrates why **visualizing** your data is critical even when summary statistics seem to tell a certain story."
   ]
  },
  {
   "cell_type": "code",
   "execution_count": 2,
   "id": "5ef3c7b5-e69b-4fa5-b621-34f2df28f82f",
   "metadata": {
    "scrolled": true
   },
   "outputs": [
    {
     "name": "stdout",
     "output_type": "stream",
     "text": [
      "   dataset     x      y\n",
      "0        I  10.0   8.04\n",
      "1        I   8.0   6.95\n",
      "2        I  13.0   7.58\n",
      "3        I   9.0   8.81\n",
      "4        I  11.0   8.33\n",
      "5        I  14.0   9.96\n",
      "6        I   6.0   7.24\n",
      "7        I   4.0   4.26\n",
      "8        I  12.0  10.84\n",
      "9        I   7.0   4.82\n",
      "10       I   5.0   5.68\n",
      "11      II  10.0   9.14\n",
      "12      II   8.0   8.14\n",
      "13      II  13.0   8.74\n",
      "14      II   9.0   8.77\n",
      "15      II  11.0   9.26\n",
      "16      II  14.0   8.10\n",
      "17      II   6.0   6.13\n",
      "18      II   4.0   3.10\n",
      "19      II  12.0   9.13\n",
      "20      II   7.0   7.26\n",
      "21      II   5.0   4.74\n",
      "22     III  10.0   7.46\n",
      "23     III   8.0   6.77\n",
      "24     III  13.0  12.74\n",
      "25     III   9.0   7.11\n",
      "26     III  11.0   7.81\n",
      "27     III  14.0   8.84\n",
      "28     III   6.0   6.08\n",
      "29     III   4.0   5.39\n",
      "30     III  12.0   8.15\n",
      "31     III   7.0   6.42\n",
      "32     III   5.0   5.73\n",
      "33      IV   8.0   6.58\n",
      "34      IV   8.0   5.76\n",
      "35      IV   8.0   7.71\n",
      "36      IV   8.0   8.84\n",
      "37      IV   8.0   8.47\n",
      "38      IV   8.0   7.04\n",
      "39      IV   8.0   5.25\n",
      "40      IV  19.0  12.50\n",
      "41      IV   8.0   5.56\n",
      "42      IV   8.0   7.91\n",
      "43      IV   8.0   6.89\n"
     ]
    }
   ],
   "source": [
    "anscombe = sns.load_dataset(\"anscombe\")\n",
    "print(anscombe)"
   ]
  },
  {
   "cell_type": "code",
   "execution_count": 3,
   "id": "032a9ed3-1014-4572-b0be-de30facb5125",
   "metadata": {},
   "outputs": [
    {
     "name": "stdout",
     "output_type": "stream",
     "text": [
      "Summary Statistics for Anscombe's Quartet:\n"
     ]
    },
    {
     "data": {
      "text/html": [
       "<div>\n",
       "<style scoped>\n",
       "    .dataframe tbody tr th:only-of-type {\n",
       "        vertical-align: middle;\n",
       "    }\n",
       "\n",
       "    .dataframe tbody tr th {\n",
       "        vertical-align: top;\n",
       "    }\n",
       "\n",
       "    .dataframe thead th {\n",
       "        text-align: right;\n",
       "    }\n",
       "</style>\n",
       "<table border=\"1\" class=\"dataframe\">\n",
       "  <thead>\n",
       "    <tr style=\"text-align: right;\">\n",
       "      <th></th>\n",
       "      <th>mean_x</th>\n",
       "      <th>mean_y</th>\n",
       "      <th>var_x</th>\n",
       "      <th>var_y</th>\n",
       "      <th>corr_xy</th>\n",
       "    </tr>\n",
       "    <tr>\n",
       "      <th>dataset</th>\n",
       "      <th></th>\n",
       "      <th></th>\n",
       "      <th></th>\n",
       "      <th></th>\n",
       "      <th></th>\n",
       "    </tr>\n",
       "  </thead>\n",
       "  <tbody>\n",
       "    <tr>\n",
       "      <th>I</th>\n",
       "      <td>9.0</td>\n",
       "      <td>7.500909</td>\n",
       "      <td>11.0</td>\n",
       "      <td>4.127269</td>\n",
       "      <td>0.816421</td>\n",
       "    </tr>\n",
       "    <tr>\n",
       "      <th>II</th>\n",
       "      <td>9.0</td>\n",
       "      <td>7.500909</td>\n",
       "      <td>11.0</td>\n",
       "      <td>4.127629</td>\n",
       "      <td>0.816237</td>\n",
       "    </tr>\n",
       "    <tr>\n",
       "      <th>III</th>\n",
       "      <td>9.0</td>\n",
       "      <td>7.500000</td>\n",
       "      <td>11.0</td>\n",
       "      <td>4.122620</td>\n",
       "      <td>0.816287</td>\n",
       "    </tr>\n",
       "    <tr>\n",
       "      <th>IV</th>\n",
       "      <td>9.0</td>\n",
       "      <td>7.500909</td>\n",
       "      <td>11.0</td>\n",
       "      <td>4.123249</td>\n",
       "      <td>0.816521</td>\n",
       "    </tr>\n",
       "  </tbody>\n",
       "</table>\n",
       "</div>"
      ],
      "text/plain": [
       "         mean_x    mean_y  var_x     var_y   corr_xy\n",
       "dataset                                             \n",
       "I           9.0  7.500909   11.0  4.127269  0.816421\n",
       "II          9.0  7.500909   11.0  4.127629  0.816237\n",
       "III         9.0  7.500000   11.0  4.122620  0.816287\n",
       "IV          9.0  7.500909   11.0  4.123249  0.816521"
      ]
     },
     "metadata": {},
     "output_type": "display_data"
    }
   ],
   "source": [
    "# gruping the dataset to calculate summary stats\n",
    "summary = anscombe.groupby(\"dataset\").agg(\n",
    "    mean_x=('x', 'mean'),\n",
    "    mean_y=('y', 'mean'),\n",
    "    var_x=('x', 'var'),\n",
    "    var_y=('y', 'var'),\n",
    "    corr_xy=('x', lambda x: anscombe.loc[x.index, 'x'].corr(anscombe.loc[x.index, 'y']))\n",
    ")\n",
    "\n",
    "print(\"Summary Statistics for Anscombe's Quartet:\")\n",
    "display(summary)\n"
   ]
  },
  {
   "cell_type": "code",
   "execution_count": 4,
   "id": "2be8fb36-7dd2-40a4-84d8-51f450c9f81d",
   "metadata": {},
   "outputs": [
    {
     "data": {
      "image/png": "[encoded data removed]",
      "text/plain": [
       "<Figure size 800x800 with 4 Axes>"
      ]
     },
     "metadata": {},
     "output_type": "display_data"
    }
   ],
   "source": [
    "sns.set(style=\"ticks\")\n",
    "g = sns.FacetGrid(anscombe, col=\"dataset\", col_wrap=2, height=4, sharex=False, sharey=False)\n",
    "g.map_dataframe(sns.scatterplot, x=\"x\", y=\"y\")\n",
    "g.map_dataframe(sns.lineplot, x=\"x\", y=\"y\", estimator=None, color=\"red\", lw=1, linestyle=\"--\")\n",
    "g.set_titles(\"Dataset {col_name}\")\n",
    "g.set_axis_labels(\"x\", \"y\")\n",
    "g.fig.suptitle(\"Anscombe's Quartet: Same Stats, Very Different Distributions\", y=1.05)\n",
    "plt.tight_layout()\n",
    "plt.show()"
   ]
  },
  {
   "cell_type": "markdown",
   "id": "3efcde93-4502-44a9-a1c2-b7e1d551d12c",
   "metadata": {},
   "source": [
    "## 🛠️ Matplotlib plot anatomy\n",
    "\n",
    "A `matplotlib` plot is made of **Figure**, **Axes**, **Labels**, **Ticks**, **Legend**, and **Annotations**. You must define all elements explicitly.\n",
    "\n",
    "Here is how to build a custom chart piece by piece:"
   ]
  },
  {
   "cell_type": "code",
   "execution_count": 6,
   "id": "f77a2e98-2a91-4b52-ab0a-fe3a04d99ede",
   "metadata": {},
   "outputs": [],
   "source": [
    "# loading the dataset\n",
    "df = pd.read_excel(\"ug_immigrant_workers.xlsx\")"
   ]
  },
  {
   "cell_type": "code",
   "execution_count": 7,
   "id": "9deb7392-e9f4-4784-a5c9-cee6a775053b",
   "metadata": {},
   "outputs": [
    {
     "data": {
      "text/html": [
       "<div>\n",
       "<style scoped>\n",
       "    .dataframe tbody tr th:only-of-type {\n",
       "        vertical-align: middle;\n",
       "    }\n",
       "\n",
       "    .dataframe tbody tr th {\n",
       "        vertical-align: top;\n",
       "    }\n",
       "\n",
       "    .dataframe thead th {\n",
       "        text-align: right;\n",
       "    }\n",
       "</style>\n",
       "<table border=\"1\" class=\"dataframe\">\n",
       "  <thead>\n",
       "    <tr style=\"text-align: right;\">\n",
       "      <th></th>\n",
       "      <th>Country of Origin</th>\n",
       "      <th>2016</th>\n",
       "      <th>2017</th>\n",
       "      <th>2018</th>\n",
       "      <th>2019</th>\n",
       "      <th>2020</th>\n",
       "    </tr>\n",
       "  </thead>\n",
       "  <tbody>\n",
       "    <tr>\n",
       "      <th>0</th>\n",
       "      <td>India</td>\n",
       "      <td>3473</td>\n",
       "      <td>4053</td>\n",
       "      <td>4056</td>\n",
       "      <td>5484</td>\n",
       "      <td>3682</td>\n",
       "    </tr>\n",
       "    <tr>\n",
       "      <th>1</th>\n",
       "      <td>China</td>\n",
       "      <td>2098</td>\n",
       "      <td>2414</td>\n",
       "      <td>2653</td>\n",
       "      <td>3261</td>\n",
       "      <td>1358</td>\n",
       "    </tr>\n",
       "    <tr>\n",
       "      <th>2</th>\n",
       "      <td>USA</td>\n",
       "      <td>815</td>\n",
       "      <td>850</td>\n",
       "      <td>757</td>\n",
       "      <td>913</td>\n",
       "      <td>533</td>\n",
       "    </tr>\n",
       "    <tr>\n",
       "      <th>3</th>\n",
       "      <td>Kenya</td>\n",
       "      <td>623</td>\n",
       "      <td>763</td>\n",
       "      <td>646</td>\n",
       "      <td>884</td>\n",
       "      <td>639</td>\n",
       "    </tr>\n",
       "    <tr>\n",
       "      <th>4</th>\n",
       "      <td>Germany</td>\n",
       "      <td>340</td>\n",
       "      <td>302</td>\n",
       "      <td>256</td>\n",
       "      <td>408</td>\n",
       "      <td>139</td>\n",
       "    </tr>\n",
       "  </tbody>\n",
       "</table>\n",
       "</div>"
      ],
      "text/plain": [
       "  Country of Origin  2016  2017  2018  2019  2020\n",
       "0             India  3473  4053  4056  5484  3682\n",
       "1             China  2098  2414  2653  3261  1358\n",
       "2               USA   815   850   757   913   533\n",
       "3             Kenya   623   763   646   884   639\n",
       "4           Germany   340   302   256   408   139"
      ]
     },
     "execution_count": 7,
     "metadata": {},
     "output_type": "execute_result"
    }
   ],
   "source": [
    "df.head()"
   ]
  },
  {
   "cell_type": "code",
   "execution_count": null,
   "id": "2f897b45-e172-42ad-bc29-13d6d7dc5a83",
   "metadata": {},
   "outputs": [],
   "source": [
    "# reshaping dataframe to long format\n",
    "df_long = df.melt(id_vars=\"Country of Origin\", var_name=\"Year\", value_name=\"Immigrant Workers\")\n",
    "df_long[\"Year\"] = df_long[\"Year\"].astype(int)\n",
    "print(df_long)"
   ]
  },
  {
   "cell_type": "code",
   "execution_count": null,
   "id": "b8ebeac2-eff8-402d-a546-0f88104f71d3",
   "metadata": {},
   "outputs": [],
   "source": [
    "df_long.info()"
   ]
  },
  {
   "cell_type": "code",
   "execution_count": null,
   "id": "510be6b9-d63f-48b9-8257-085243cd5d89",
   "metadata": {},
   "outputs": [],
   "source": [
    "# Only do this if you want spacing equalized for years (not ideal for trendlines)\n",
    "df_long[\"Year\"] = df_long[\"Year\"].astype(str)"
   ]
  },
  {
   "cell_type": "code",
   "execution_count": null,
   "id": "3364fd02-5f86-468a-af50-cb5d23de12e6",
   "metadata": {},
   "outputs": [],
   "source": [
    "# creating the figure and axes\n",
    "# this is the foundation of any matplotlib plot.\n",
    "# the figure is the entire canvas\n",
    "fig = plt.figure(figsize=(8, 6))\n",
    "plt.show()"
   ]
  },
  {
   "cell_type": "markdown",
   "id": "5c1118c6-e37a-4dfc-953e-3493e993a87a",
   "metadata": {},
   "source": [
    "This is the overall layout space — a container where one or more plots (called Axes) will be placed. Alone, it’s just a blank canvas."
   ]
  },
  {
   "cell_type": "code",
   "execution_count": null,
   "id": "9af8feae-789b-4cc8-923c-c38e5f4bf1f5",
   "metadata": {},
   "outputs": [],
   "source": [
    "# adding one Axes manually to the figure\n",
    "# Axes is the actual plot area — the box where data gets drawn.\n",
    "fig = plt.figure(figsize=(8, 6))\n",
    "ax = fig.add_axes([0.1, 0.1, 0.8, 0.8])  # [left, bottom, width, height] in 0–1 figure coords\n",
    "plt.show()"
   ]
  },
  {
   "cell_type": "code",
   "execution_count": null,
   "id": "45e08d8b-2337-4ffe-8497-f7791b1fa3b1",
   "metadata": {},
   "outputs": [],
   "source": [
    "# common shortcut — creates both Figure and Axes together\n",
    "fig, ax = plt.subplots(figsize=(8, 6))\n",
    "plt.show()"
   ]
  },
  {
   "cell_type": "code",
   "execution_count": null,
   "id": "382273fd-9efc-4975-9df7-17b7d6be6d63",
   "metadata": {},
   "outputs": [],
   "source": [
    "# adding a line for India's immigrant worker data\n",
    "india = df_long[df_long[\"Country of Origin\"] == \"India\"]\n",
    "\n",
    "fig, ax = plt.subplots(figsize=(8, 6))\n",
    "ax.plot(india[\"Year\"], india[\"Immigrant Workers\"])\n",
    "plt.show()"
   ]
  },
  {
   "cell_type": "code",
   "execution_count": null,
   "id": "599fa5a2-f4d3-4c17-9ca7-46b00bd69905",
   "metadata": {},
   "outputs": [],
   "source": [
    "# adding a label to the plot line — needed for legends\n",
    "fig, ax = plt.subplots(figsize=(8, 6))\n",
    "ax.plot(india[\"Year\"], india[\"Immigrant Workers\"], label=\"India\")\n",
    "plt.show()"
   ]
  },
  {
   "cell_type": "code",
   "execution_count": null,
   "id": "596c7934-2feb-479f-a831-f0ef24e83913",
   "metadata": {},
   "outputs": [],
   "source": [
    "# adding data lines for all top countries.\n",
    "# top countries for line plot demo\n",
    "top_countries = [\"India\", \"China\", \"USA\"]\n",
    "filtered = df_long[df_long[\"Country of Origin\"].isin(top_countries)]\n",
    "\n",
    "fig, ax = plt.subplots(figsize=(8, 6))\n",
    "for country in top_countries:\n",
    "    subset = filtered[filtered[\"Country of Origin\"] == country]\n",
    "    ax.plot(subset[\"Year\"], subset[\"Immigrant Workers\"], label=country)\n",
    "plt.show()"
   ]
  },
  {
   "cell_type": "code",
   "execution_count": null,
   "id": "c88e2a26-781f-4dc3-98c4-932872b1c43a",
   "metadata": {},
   "outputs": [],
   "source": [
    "# descriptive axis labels to explain what’s shown.\n",
    "fig, ax = plt.subplots(figsize=(8, 6))\n",
    "for country in top_countries:\n",
    "    subset = filtered[filtered[\"Country of Origin\"] == country]\n",
    "    ax.plot(subset[\"Year\"], subset[\"Immigrant Workers\"], label=country)\n",
    "ax.set_xlabel(\"Year\")\n",
    "ax.set_ylabel(\"Number of Immigrant Workers\")\n",
    "ax.set_title(\"Immigrant Workers in Uganda (2016–2020)\")\n",
    "plt.show()"
   ]
  },
  {
   "cell_type": "code",
   "execution_count": null,
   "id": "64b443eb-d038-4fd5-92ce-8134b5a49b09",
   "metadata": {},
   "outputs": [],
   "source": [
    "# showing the legend so we know which line is which country.\n",
    "fig, ax = plt.subplots(figsize=(8, 6))\n",
    "for country in top_countries:\n",
    "    subset = filtered[filtered[\"Country of Origin\"] == country]\n",
    "    ax.plot(subset[\"Year\"], subset[\"Immigrant Workers\"], label=country)\n",
    "ax.set_xlabel(\"Year\")\n",
    "ax.set_ylabel(\"Number of Immigrant Workers\")\n",
    "ax.set_title(\"Immigrant Workers in Uganda (2016–2020)\")\n",
    "ax.legend()\n",
    "plt.show()"
   ]
  },
  {
   "cell_type": "code",
   "execution_count": null,
   "id": "3e638bdd-5618-4a78-ac93-405e24956eac",
   "metadata": {},
   "outputs": [],
   "source": [
    "# custom line widths, grid, and annotation.\n",
    "\n",
    "filtered.loc[:, \"Year\"] = filtered[\"Year\"].astype(int)\n",
    "\n",
    "fig, ax = plt.subplots(figsize=(8, 6))\n",
    "for country in top_countries:\n",
    "    subset = filtered[filtered[\"Country of Origin\"] == country]\n",
    "    ax.plot(subset[\"Year\"], subset[\"Immigrant Workers\"], label=country, linewidth=2)\n",
    "\n",
    "ax.set_xlabel(\"Year\", fontsize=10, fontweight='semibold')\n",
    "ax.set_ylabel(\"Number of Immigrant Workers\", fontsize=10, fontweight='semibold')\n",
    "ax.set_title(\"Immigrant Workers in Uganda (2016–2020)\", fontsize=12, fontweight='bold')\n",
    "ax.legend()\n",
    "ax.grid(False)\n",
    "\n",
    "ax.set_ylim(0, 6000)\n",
    "\n",
    "# Add annotation for peak value (India in 2019)\n",
    "ax.annotate(\"Highest (India)\",\n",
    "            xy=(2019, 5484),              # the data point to point to\n",
    "            xytext=(2017, 5200),          # text position\n",
    "            fontsize=10, ha='right')\n",
    "\n",
    "ax.set_xticks([2016, 2017, 2018, 2019, 2020])\n",
    "plt.tight_layout()\n",
    "plt.show()"
   ]
  },
  {
   "cell_type": "markdown",
   "id": "2e61256e-3c3a-478c-b551-bf3bd66cd6bf",
   "metadata": {},
   "source": [
    "## Seaborn\n",
    "Seaborn is a higher-level plotting library built on top of Matplotlib.\n",
    "\n",
    "It provides a simpler and cleaner interface for creating common visualizations — especially when working with Pandas DataFrames. With just one line of code, Seaborn can group data, apply color themes, and produce polished charts.\n",
    "\n",
    "While Matplotlib gives full control, Seaborn makes it faster to create attractive, statistical plots with less effort.\n",
    "\n",
    "We’ll now recreate our earlier plot using Seaborn to show how much easier and more expressive it can be.\n"
   ]
  },
  {
   "cell_type": "code",
   "execution_count": null,
   "id": "a208abdf-855b-48ec-a679-88d43fa9936b",
   "metadata": {},
   "outputs": [],
   "source": [
    "plt.figure(figsize=(8, 6))\n",
    "sns.lineplot(data=filtered, x=\"Year\", y=\"Immigrant Workers\", hue=\"Country of Origin\", marker=\"o\", linewidth=2)\n",
    "plt.show()"
   ]
  },
  {
   "cell_type": "code",
   "execution_count": null,
   "id": "aad5db30-da9a-474f-a1ad-cd500d36661e",
   "metadata": {},
   "outputs": [],
   "source": [
    "plt.figure(figsize=(8, 6))\n",
    "plot = sns.lineplot(data=filtered, x=\"Year\", y=\"Immigrant Workers\", hue=\"Country of Origin\", marker=\"o\", linewidth=2)\n",
    "plot.set_title(\"Immigrant Workers in Uganda (2016–2020)\", fontsize=12, fontweight='bold')\n",
    "plot.set_xlabel(\"Year\", fontsize=10)\n",
    "plot.set_ylabel(\"Number of Immigrant Workers\", fontsize=10)\n",
    "plt.xticks([2016, 2017, 2018, 2019, 2020])\n",
    "plt.ylim(0, 6000)\n",
    "plt.tight_layout()\n",
    "plt.show()"
   ]
  },
  {
   "cell_type": "code",
   "execution_count": null,
   "id": "a4a29468-ad2d-4c72-820f-063fa2157ba4",
   "metadata": {},
   "outputs": [],
   "source": [
    "plt.figure(figsize=(8, 6))\n",
    "plot = sns.lineplot(data=filtered, x=\"Year\", y=\"Immigrant Workers\", hue=\"Country of Origin\", marker=\"o\", linewidth=2)\n",
    "plot.set_title(\"Immigrant Workers in Uganda (2016–2020)\", fontsize=12, fontweight='bold')\n",
    "plot.set_xlabel(\"Year\", fontsize=10)\n",
    "plot.set_ylabel(\"Number of Immigrant Workers\", fontsize=10)\n",
    "plt.xticks([2016, 2017, 2018, 2019, 2020])\n",
    "plt.ylim(0, 6000)\n",
    "\n",
    "plt.tight_layout()\n",
    "plt.show()"
   ]
  },
  {
   "cell_type": "code",
   "execution_count": null,
   "id": "ae8179b5-2c6b-4f2c-bf39-44211f8bbab3",
   "metadata": {},
   "outputs": [],
   "source": [
    "# setting theme and color palette\n",
    "sns.set_theme(style=\"white\")\n",
    "sns.set_palette(\"Set2\")\n",
    "\n",
    "plt.figure(figsize=(10, 6))\n",
    "plot = sns.lineplot(data=filtered, x=\"Year\", y=\"Immigrant Workers\", hue=\"Country of Origin\", marker=\"o\", linewidth=2)\n",
    "\n",
    "# titles and labels\n",
    "plot.set_title(\"Immigration Trends in Uganda (2016–2020)\", fontsize=14, fontweight='bold', loc='left')\n",
    "plot.set_xlabel(\"Year\", fontsize=12)\n",
    "plot.set_ylabel(\"Number of Immigrant Workers\", fontsize=12)\n",
    "\n",
    "# tick marks and limits\n",
    "plt.xticks([2016, 2017, 2018, 2019, 2020])\n",
    "plt.ylim(0, 6000)\n",
    "\n",
    "# legend customization\n",
    "plt.legend(title=\"Country of Origin\", loc='upper left')\n",
    "\n",
    "# highlight\n",
    "plt.axvspan(2018.9, 2019.1, color='orange', alpha=0.2, label=\"India's Peak Year\")\n",
    "\n",
    "# annotation\n",
    "plt.annotate(\"Highest (India)\", xy=(2019, 5484), xytext=(2017.5, 4500), arrowprops=dict(facecolor='yellow', arrowstyle='->', linewidth=1.5, mutation_scale=25), fontsize=10, ha='center')\n",
    "\n",
    "\n",
    "plt.tight_layout()\n",
    "plt.show()"
   ]
  },
  {
   "cell_type": "code",
   "execution_count": null,
   "id": "5dda70cb-a93d-464a-b99f-90644bc20490",
   "metadata": {},
   "outputs": [],
   "source": [
    "# Set Seaborn theme and palette\n",
    "sns.set_theme(style=\"white\")\n",
    "sns.set_palette(\"Set2\")\n",
    "\n",
    "fig = plt.figure(figsize=(10, 6))\n",
    "ax = plt.gca()  # Get the axes object\n",
    "\n",
    "# Set figure and axes background colors\n",
    "fig.patch.set_facecolor('#f9f9f9')      # Overall figure background\n",
    "ax.set_facecolor('#ffffff')             # Plot area background\n",
    "\n",
    "# Create Seaborn line plot\n",
    "plot = sns.lineplot(\n",
    "    data=filtered,\n",
    "    x=\"Year\",\n",
    "    y=\"Immigrant Workers\",\n",
    "    hue=\"Country of Origin\",\n",
    "    marker=\"o\",\n",
    "    linewidth=2\n",
    ")\n",
    "\n",
    "# Titles and labels\n",
    "plot.set_title(\"Immigration Trends in Uganda (2016–2020)\", fontsize=14, fontweight='bold', loc='left')\n",
    "plot.set_xlabel(\"Year\", fontsize=12)\n",
    "plot.set_ylabel(\"Number of Immigrant Workers\", fontsize=12)\n",
    "\n",
    "# Tick marks and limits\n",
    "plt.xticks([2016, 2017, 2018, 2019, 2020])\n",
    "plt.ylim(0, 6000)\n",
    "\n",
    "# Legend customization\n",
    "plt.legend(title=\"Country of Origin\", loc='upper left')\n",
    "\n",
    "# Highlight\n",
    "plt.axvspan(2018.9, 2019.1, color='orange', alpha=0.2, label=\"India's Peak Year\")\n",
    "\n",
    "# Annotation\n",
    "plt.annotate(\"Highest (India)\",\n",
    "             xy=(2019, 5484),\n",
    "             xytext=(2017.5, 4500),\n",
    "             arrowprops=dict(facecolor='yellow', arrowstyle='->', linewidth=1.5, mutation_scale=25),\n",
    "             fontsize=10, ha='center')\n",
    "\n",
    "plt.tight_layout()\n",
    "plt.show()"
   ]
  },
  {
   "cell_type": "code",
   "execution_count": null,
   "id": "dffddef7-3c30-4da7-831e-8fc298820449",
   "metadata": {},
   "outputs": [],
   "source": []
  }
 ],
 "metadata": {
  "kernelspec": {
   "display_name": "Python 3 (ipykernel)",
   "language": "python",
   "name": "python3"
  },
  "language_info": {
   "codemirror_mode": {
    "name": "ipython",
    "version": 3
   },
   "file_extension": ".py",
   "mimetype": "text/x-python",
   "name": "python",
   "nbconvert_exporter": "python",
   "pygments_lexer": "ipython3",
   "version": "3.12.7"
  }
 },
 "nbformat": 4,
 "nbformat_minor": 5
}
